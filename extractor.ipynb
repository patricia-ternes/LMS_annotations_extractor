{
 "cells": [
  {
   "cell_type": "markdown",
   "metadata": {},
   "source": [
    "[![Open in Colab][colab-badge]][extractor-notebook]\n",
    "\n",
    "<!-- links -->\n",
    "[colab-badge]: https://colab.research.google.com/assets/colab-badge.svg\n",
    "[extractor-notebook]: https://colab.research.google.com/github/patricia-ternes/LMS_annotations_extractor/extractor.ipynb"
   ]
  },
  {
   "cell_type": "markdown",
   "metadata": {},
   "source": [
    "## Variables Definition\n",
    "\n",
    "Please fill the necessary information bellow.\n",
    "\n",
    "Note: \n",
    "- all the values should be placed between **quotation marks**\n",
    "- talker_ID must have **2 digits**\n",
    "- session_ID always **starts with S**\n",
    "- talker_gender can be **F**, **M** or **N**"
   ]
  },
  {
   "cell_type": "code",
   "execution_count": 9,
   "metadata": {},
   "outputs": [],
   "source": [
    "talker_ID = \"02\"\n",
    "session_ID = \"S1\"\n",
    "talker_gender = \"M\"\n",
    "\n",
    "corpus = \"LMS\"\n",
    "task_IDs = [\"WOR\", \"SNO\", \"SFA\", \"SCL\"]\n",
    "\n",
    "task_names = [\n",
    "    \"word\",\n",
    "    \"sentence_normal\",\n",
    "    \"sentence_fast\",\n",
    "    \"sentence_clear\",\n",
    "]"
   ]
  },
  {
   "cell_type": "code",
   "execution_count": null,
   "metadata": {},
   "outputs": [],
   "source": [
    "from google.colab import files\n",
    "uploaded = files.upload()"
   ]
  },
  {
   "cell_type": "markdown",
   "metadata": {},
   "source": [
    "*Note: Uploaded files are stored temporarily in the `/content/` folder*"
   ]
  },
  {
   "cell_type": "markdown",
   "metadata": {},
   "source": [
    "## Main Code"
   ]
  },
  {
   "cell_type": "code",
   "execution_count": 10,
   "metadata": {},
   "outputs": [],
   "source": [
    "import pandas as pd\n",
    "import os\n",
    "import io\n",
    "import shutil\n",
    "\n",
    "input_name = list(uploaded.keys())[0]  # automatically extract input name \n",
    "\n",
    "# Try to create a temporary folder to store the outputs\n",
    "output_path = \"/content/processed/\"\n",
    "try: os.makedirs(output_path)\n",
    "except OSError: pass\n",
    "\n",
    "# Load necessary columns from input csv and store as pandas.DataFrame\n",
    "columns = [\"task_name\", \"item_text\"]\n",
    "data = pd.read_csv(io.BytesIO(uploaded[input_name]), usecols=columns)\n",
    "\n",
    "# Repeat the following for every task\n",
    "for i in range(len(task_IDs)):\n",
    "    task_df = data[data[\"task_name\"] == task_names[i]]  # selects rows according to the task\n",
    "    task_df = task_df[\"item_text\"].dropna()  # drop empty rows (first row for every task)\n",
    "    task_df.index = task_df.reset_index(drop=True).index + 1  # reset index, starting at 1\n",
    "    task_df = task_df.index.astype(str) + \". \" + task_df  # add index to text\n",
    "\n",
    "    # Define output name, based in variables\n",
    "    output_name = \"_\".join(\n",
    "        [corpus, task_IDs[i], talker_ID, talker_gender, session_ID + \".txt\"]\n",
    "    )\n",
    "\n",
    "    # Define output path + name\n",
    "    output = os.path.join(output_path, output_name)\n",
    "    \n",
    "    # Temporarily save the output\n",
    "    task_df.to_csv(\n",
    "        output, sep=\"\\t\", header=False, index=False, quoting=3, escapechar=\"#\"\n",
    "    )\n",
    "\n",
    "    # Download the output\n",
    "    files.download(output)"
   ]
  },
  {
   "cell_type": "code",
   "execution_count": null,
   "metadata": {},
   "outputs": [],
   "source": [
    "# os.remove(input_name)\n",
    "# shutil.rmtree(output_path)"
   ]
  }
 ],
 "metadata": {
  "kernelspec": {
   "display_name": "Python 3.11.0 ('shape-env')",
   "language": "python",
   "name": "python3"
  },
  "language_info": {
   "codemirror_mode": {
    "name": "ipython",
    "version": 3
   },
   "file_extension": ".py",
   "mimetype": "text/x-python",
   "name": "python",
   "nbconvert_exporter": "python",
   "pygments_lexer": "ipython3",
   "version": "3.11.0"
  },
  "orig_nbformat": 4,
  "vscode": {
   "interpreter": {
    "hash": "232956a164e66fa513d9a147614f4289f1f8a6a01996eaafc12f743b15b1e75f"
   }
  }
 },
 "nbformat": 4,
 "nbformat_minor": 2
}
